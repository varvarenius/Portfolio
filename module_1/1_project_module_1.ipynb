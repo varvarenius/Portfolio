{
 "cells": [
  {
   "cell_type": "code",
   "execution_count": 0,
   "metadata": {
    "_cell_guid": "b1076dfc-b9ad-4769-8c92-a6c4dae69d19",
    "_uuid": "8f2839f25d086af736a60e9eeb907d3b93b6e0e5",
    "colab": {},
    "colab_type": "code",
    "id": "U2D2gTdJVp90"
   },
   "outputs": [],
   "source": [
    "import numpy as np\n",
    "import pandas as pd\n",
    "import seaborn as sns\n",
    "import matplotlib.pyplot as plt\n",
    "from collections import Counter\n",
    "from itertools import combinations"
   ]
  },
  {
   "cell_type": "code",
   "execution_count": 0,
   "metadata": {
    "_cell_guid": "79c7e3d0-c299-4dcb-8224-4455121ee9b0",
    "_uuid": "d629ff2d2480ee46fbb7e2d37f6b5fab8052498a",
    "colab": {},
    "colab_type": "code",
    "id": "oyGfxL3eVp9-"
   },
   "outputs": [],
   "source": [
    "movie = pd.read_csv('movie_bd_v5.csv')\n",
    "movie.sample(5)"
   ]
  },
  {
   "cell_type": "code",
   "execution_count": 0,
   "metadata": {
    "colab": {},
    "colab_type": "code",
    "id": "CoYUnagMVp-C"
   },
   "outputs": [],
   "source": [
    "movie.describe()"
   ]
  },
  {
   "cell_type": "markdown",
   "metadata": {
    "colab_type": "text",
    "id": "DTIt7ezGVp-G"
   },
   "source": [
    "# Предобработка"
   ]
  },
  {
   "cell_type": "code",
   "execution_count": 3,
   "metadata": {
    "colab": {},
    "colab_type": "code",
    "id": "jNb40DwKVp-H"
   },
   "outputs": [],
   "source": [
    "answers = {} # создадим словарь для ответов\n",
    "\n",
    "movie = pd.read_csv('movie_bd_v5.csv', header=None, skiprows = 1) # skip the first row\n",
    "movie.columns = ['imdb_id','budget','revenue','original_title', 'cast', 'director', 'tagline', 'overview', 'runtime', 'genres', 'production_companies', 'release_date', 'vote_average', 'release_year'] # give names to columns\n",
    "movie['profit'] = movie['revenue'] - movie['budget'] # create a column with movie profit\n"
   ]
  },
  {
   "cell_type": "markdown",
   "metadata": {
    "colab_type": "text",
    "id": "YxZaH-nPVp-L"
   },
   "source": [
    "# 1. У какого фильма из списка самый большой бюджет?"
   ]
  },
  {
   "cell_type": "markdown",
   "metadata": {
    "colab_type": "text",
    "id": "Nd-G5gX6Vp-M"
   },
   "source": [
    "Использовать варианты ответов в коде решения запрещено.    \n",
    "Вы думаете и в жизни у вас будут варианты ответов?)"
   ]
  },
  {
   "cell_type": "code",
   "execution_count": 0,
   "metadata": {
    "colab": {},
    "colab_type": "code",
    "id": "uVnXAY5RVp-O"
   },
   "outputs": [],
   "source": [
    "answers['1'] = '5. Pirates of the Caribbean: On Stranger Tides (tt1298650)' # +"
   ]
  },
  {
   "cell_type": "code",
   "execution_count": 0,
   "metadata": {
    "colab": {},
    "colab_type": "code",
    "id": "dZwb3m28Vp-S"
   },
   "outputs": [],
   "source": [
    "movie[movie.budget == movie.budget.max()] # determine the film with the highest budget"
   ]
  },
  {
   "cell_type": "markdown",
   "metadata": {
    "colab_type": "text",
    "id": "K7L3nbRXVp-X"
   },
   "source": [
    "ВАРИАНТ 2"
   ]
  },
  {
   "cell_type": "code",
   "execution_count": 0,
   "metadata": {
    "colab": {},
    "colab_type": "code",
    "id": "OGaoQI7rVp-X"
   },
   "outputs": [],
   "source": [
    "# можно добавлять разные варианты решения"
   ]
  },
  {
   "cell_type": "markdown",
   "metadata": {
    "colab_type": "text",
    "id": "FNRbbI3vVp-c"
   },
   "source": [
    "# 2. Какой из фильмов самый длительный (в минутах)?"
   ]
  },
  {
   "cell_type": "code",
   "execution_count": 0,
   "metadata": {
    "colab": {},
    "colab_type": "code",
    "id": "vHAoEXNTVp-d"
   },
   "outputs": [],
   "source": [
    "answers['2'] = '2. Gods and Generals (tt0279111)' # +"
   ]
  },
  {
   "cell_type": "code",
   "execution_count": 0,
   "metadata": {
    "colab": {},
    "colab_type": "code",
    "id": "ot-VX2XrVp-g"
   },
   "outputs": [],
   "source": [
    "movie[movie.runtime == movie.runtime.max()] # determine the longest film"
   ]
  },
  {
   "cell_type": "markdown",
   "metadata": {
    "colab_type": "text",
    "id": "bapLlpW8Vp-k"
   },
   "source": [
    "# 3. Какой из фильмов самый короткий (в минутах)?\n",
    "\n",
    "\n",
    "\n"
   ]
  },
  {
   "cell_type": "code",
   "execution_count": 0,
   "metadata": {
    "colab": {},
    "colab_type": "code",
    "id": "YBxaSHuAVp-l"
   },
   "outputs": [],
   "source": [
    "answers['3'] = '2. Winnie the Pooh (tt1449283)' # +\n",
    "movie[movie.runtime == movie.runtime.min()] # determine the shortest film"
   ]
  },
  {
   "cell_type": "markdown",
   "metadata": {
    "colab_type": "text",
    "id": "TfQbxbfNVp-p"
   },
   "source": [
    "# 4. Какова средняя длительность фильмов?\n"
   ]
  },
  {
   "cell_type": "code",
   "execution_count": 0,
   "metadata": {
    "colab": {},
    "colab_type": "code",
    "id": "5K6dKZYVVp-q"
   },
   "outputs": [],
   "source": [
    "answers['4'] = '2. 110' # +\n",
    "movie.runtime.describe() # see 'mean'"
   ]
  },
  {
   "cell_type": "markdown",
   "metadata": {
    "colab_type": "text",
    "id": "r5TvbnT_Vp-u"
   },
   "source": [
    "# 5. Каково медианное значение длительности фильмов? "
   ]
  },
  {
   "cell_type": "code",
   "execution_count": 0,
   "metadata": {
    "colab": {},
    "colab_type": "code",
    "id": "iBROplKnVp-v"
   },
   "outputs": [],
   "source": [
    "answers['5'] = '1. 107' # +\n",
    "movie.runtime.describe() # see '50%'"
   ]
  },
  {
   "cell_type": "markdown",
   "metadata": {
    "colab_type": "text",
    "id": "39P-deDSVp-y"
   },
   "source": [
    "# 6. Какой самый прибыльный фильм?\n",
    "#### Внимание! Здесь и далее под «прибылью» или «убытками» понимается разность между сборами и бюджетом фильма. (прибыль = сборы - бюджет) в нашем датасете это будет (profit = revenue - budget) "
   ]
  },
  {
   "cell_type": "code",
   "execution_count": 0,
   "metadata": {
    "colab": {},
    "colab_type": "code",
    "id": "UYZh4T9WVp-y"
   },
   "outputs": [],
   "source": [
    "answers['6'] = '5. Avatar (tt0499549)' # +\n",
    "movie[movie.profit == movie.profit.max()] # determine the film with max profit"
   ]
  },
  {
   "cell_type": "markdown",
   "metadata": {
    "colab_type": "text",
    "id": "M99JmIX4Vp-2"
   },
   "source": [
    "# 7. Какой фильм самый убыточный? "
   ]
  },
  {
   "cell_type": "code",
   "execution_count": 0,
   "metadata": {
    "colab": {},
    "colab_type": "code",
    "id": "w-D2m4XPVp-3"
   },
   "outputs": [],
   "source": [
    "answers['7'] = '5. The Lone Ranger (tt1210819)' # +\n",
    "movie[movie.profit == movie.profit.min()] # determine the film with min profit"
   ]
  },
  {
   "cell_type": "markdown",
   "metadata": {
    "colab_type": "text",
    "id": "wEOM5ERVVp-6"
   },
   "source": [
    "# 8. У скольких фильмов из датасета объем сборов оказался выше бюджета?"
   ]
  },
  {
   "cell_type": "code",
   "execution_count": 0,
   "metadata": {
    "colab": {},
    "colab_type": "code",
    "id": "y00_7HD6Vp-7"
   },
   "outputs": [],
   "source": [
    "answers['8'] = '1. 1478' # +\n",
    "movie[movie.revenue > movie.budget].count() # determine the number of films for which the revenue is higher than the budget"
   ]
  },
  {
   "cell_type": "markdown",
   "metadata": {
    "colab_type": "text",
    "id": "xhpspA9KVp_A"
   },
   "source": [
    "# 9. Какой фильм оказался самым кассовым в 2008 году?"
   ]
  },
  {
   "cell_type": "code",
   "execution_count": 0,
   "metadata": {
    "colab": {},
    "colab_type": "code",
    "id": "MoUyQr9RVp_B"
   },
   "outputs": [],
   "source": [
    "answers['9'] = '4. The Dark Knight (tt0468569)' # +\n",
    "movie2 = movie[movie.release_year == 2008] # determine films with 2008 as release year\n",
    "movie2[movie2.revenue == movie2.revenue.max()] # determine the film with max revenue"
   ]
  },
  {
   "cell_type": "markdown",
   "metadata": {
    "colab_type": "text",
    "id": "Zi4hDKidVp_F"
   },
   "source": [
    "# 10. Самый убыточный фильм за период с 2012 по 2014 г. (включительно)?\n"
   ]
  },
  {
   "cell_type": "code",
   "execution_count": 0,
   "metadata": {
    "colab": {},
    "colab_type": "code",
    "id": "XqyRmufJVp_F"
   },
   "outputs": [],
   "source": [
    "answers['10'] = '5. The Lone Ranger (tt1210819)' # +\n",
    "movie2 = movie[(movie.release_year > 2011) & (movie.release_year < 2015)] # determine films with release year 2012-2014 (including)\n",
    "movie2[movie2.profit == movie2.profit.min()] # determine the film with min profit"
   ]
  },
  {
   "cell_type": "markdown",
   "metadata": {
    "colab_type": "text",
    "id": "EA7Sa9dkVp_I"
   },
   "source": [
    "# 11. Какого жанра фильмов больше всего?"
   ]
  },
  {
   "cell_type": "code",
   "execution_count": 0,
   "metadata": {
    "colab": {},
    "colab_type": "code",
    "id": "zsJAwJ8QVp_J"
   },
   "outputs": [],
   "source": [
    "answers['11'] = '3. Drama' # +\n",
    "movie_genres = movie.copy() # create a copy of dataset\n",
    "movie_genres.genres = movie_genres.genres.str.split('|') # split and explode column 'genres'\n",
    "movie_genres = movie_genres.explode('genres')\n",
    "movie_genres.genres.value_counts() # determine the most common genre"
   ]
  },
  {
   "cell_type": "markdown",
   "metadata": {
    "colab_type": "text",
    "id": "Ax6g2C8SVp_M"
   },
   "source": [
    "ВАРИАНТ 2"
   ]
  },
  {
   "cell_type": "code",
   "execution_count": 0,
   "metadata": {
    "colab": {},
    "colab_type": "code",
    "id": "otO3SbrSVp_N"
   },
   "outputs": [],
   "source": []
  },
  {
   "cell_type": "markdown",
   "metadata": {
    "colab_type": "text",
    "id": "T9_bPWpkVp_Q"
   },
   "source": [
    "# 12. Фильмы какого жанра чаще всего становятся прибыльными? "
   ]
  },
  {
   "cell_type": "code",
   "execution_count": 0,
   "metadata": {
    "colab": {},
    "colab_type": "code",
    "id": "Tmt8MaK1Vp_R"
   },
   "outputs": [],
   "source": [
    "answers['12'] = '1. Drama' # +\n",
    "movie_genres = movie.copy() # create a copy of dataset\n",
    "movie_genres.genres = movie_genres.genres.str.split('|') # split and explode column 'genres'\n",
    "movie_genres = movie_genres.explode('genres')\n",
    "movie_genres[movie_genres.profit > 0].genres.value_counts() # determine films with profit greater than null"
   ]
  },
  {
   "cell_type": "markdown",
   "metadata": {
    "colab_type": "text",
    "id": "0F23bgsDVp_U"
   },
   "source": [
    "# 13. У какого режиссера самые большие суммарные кассовые сборы?"
   ]
  },
  {
   "cell_type": "code",
   "execution_count": 0,
   "metadata": {
    "colab": {},
    "colab_type": "code",
    "id": "K6Z3J8ygVp_X"
   },
   "outputs": [],
   "source": [
    "answers['13'] = '5. Peter Jackson' # +\n",
    "movie_dir = movie.copy() # create a copy of dataset\n",
    "movie_dir.director = movie_dir.director.str.split('|') # split and explode column 'director'\n",
    "movie_dir = movie_dir.explode('director')\n",
    "group = movie_dir.groupby(['director'])['revenue'].sum().sort_values(ascending = False) # determine the director with max summary revenue\n",
    "display(group)"
   ]
  },
  {
   "cell_type": "markdown",
   "metadata": {
    "colab_type": "text",
    "id": "PsYC9FgRVp_a"
   },
   "source": [
    "# 14. Какой режисер снял больше всего фильмов в стиле Action?"
   ]
  },
  {
   "cell_type": "code",
   "execution_count": 0,
   "metadata": {
    "colab": {},
    "colab_type": "code",
    "id": "wd2M-wHeVp_b"
   },
   "outputs": [],
   "source": [
    "answers['14'] = '3. Robert Rodriguez' # +\n",
    "movie_dir = movie.copy() # create a copy of dataset\n",
    "movie_dir.director = movie_dir.director.str.split('|') # split and explode column 'director'\n",
    "movie_dir = movie_dir.explode('director')\n",
    "movie_dir.genres = movie_dir.genres.str.split('|') # split and explode column 'genres'\n",
    "movie_dir = movie_dir.explode('genres')\n",
    "movie_dir.loc[movie_dir.genres == 'Action']['director'].value_counts() # determine the director with max count of 'action' films"
   ]
  },
  {
   "cell_type": "markdown",
   "metadata": {
    "colab_type": "text",
    "id": "PQ0KciD7Vp_f"
   },
   "source": [
    "# 15. Фильмы с каким актером принесли самые высокие кассовые сборы в 2012 году? "
   ]
  },
  {
   "cell_type": "code",
   "execution_count": 0,
   "metadata": {
    "colab": {},
    "colab_type": "code",
    "id": "aga62oeKVp_g"
   },
   "outputs": [],
   "source": [
    "answers['15'] = '3. Chris Hemsworth' # +\n",
    "movie_act = movie.copy() # create a copy of dataset\n",
    "movie_act.cast = movie_act.cast.str.split('|') # split and explode column 'cast'\n",
    "movie_act = movie_act.explode('cast')\n",
    "actor = movie_act[movie_act.release_year == 2012] # determine films with 2012 as release year\n",
    "group = actor.groupby(['cast'])['revenue'].sum().sort_values(ascending = False) # determine the needed actor in films with max summary revenue\n",
    "display(group)"
   ]
  },
  {
   "cell_type": "markdown",
   "metadata": {
    "colab_type": "text",
    "id": "mWHyyL7QVp_j"
   },
   "source": [
    "# 16. Какой актер снялся в большем количестве высокобюджетных фильмов?"
   ]
  },
  {
   "cell_type": "code",
   "execution_count": 0,
   "metadata": {
    "colab": {},
    "colab_type": "code",
    "id": "qQtmHKTFVp_k"
   },
   "outputs": [],
   "source": [
    "answers['16'] = '3. Matt Damon' # +\n",
    "movie_act = movie.copy() # create a copy of dataset\n",
    "movie_act.cast = movie_act.cast.str.split('|') # split and explode column 'cast'\n",
    "movie_act = movie_act.explode('cast')\n",
    "actor = movie_act[movie_act.budget > movie_act.budget.mean()] # determine films with budget higher than mean budget\n",
    "group = actor.groupby(['cast'])['original_title'].count().sort_values(ascending = False) # determine the actor with the highest count of such films\n",
    "display(group)"
   ]
  },
  {
   "cell_type": "markdown",
   "metadata": {
    "colab_type": "text",
    "id": "NIh6AaW5Vp_n"
   },
   "source": [
    "# 17. В фильмах какого жанра больше всего снимался Nicolas Cage? "
   ]
  },
  {
   "cell_type": "code",
   "execution_count": 0,
   "metadata": {
    "colab": {},
    "colab_type": "code",
    "id": "H74SJDIBVp_n"
   },
   "outputs": [],
   "source": [
    "answers['17'] = '2. Action' # +\n",
    "movie_genres = movie.copy() # create a copy of dataset\n",
    "movie_genres.genres = movie_genres.genres.str.split('|') # split and explode column 'genres'\n",
    "movie_genres = movie_genres.explode('genres')\n",
    "movie_genres.cast = movie_genres.cast.str.split('|') # split and explode column 'cast'\n",
    "movie_genres = movie_genres.explode('cast') \n",
    "movie_genres[movie_genres.cast == 'Nicolas Cage']['genres'].value_counts() # determine the genres of film with Nicolas Cage"
   ]
  },
  {
   "cell_type": "markdown",
   "metadata": {
    "colab_type": "text",
    "id": "RqOmPRfWVp_q"
   },
   "source": [
    "# 18. Самый убыточный фильм от Paramount Pictures"
   ]
  },
  {
   "cell_type": "code",
   "execution_count": 0,
   "metadata": {
    "colab": {},
    "colab_type": "code",
    "id": "9E_B0Y96Vp_r"
   },
   "outputs": [],
   "source": [
    "answers['18'] = '1. K-19: The Widowmaker (tt0267626)' # +\n",
    "movie_par = movie.copy() # create a copy of dataset\n",
    "movie_par.production_companies = movie_par.production_companies.str.split('|') # split and explode column 'production_companies'\n",
    "movie_par = movie_par.explode('production_companies')\n",
    "paramount = movie_par[movie_par.production_companies == 'Paramount Pictures'] # determine films where production company is 'Paramount Pictures'\n",
    "group = paramount.groupby(['original_title'])['profit'].min().sort_values(ascending = False) # determine the film with min profit\n",
    "display(group)"
   ]
  },
  {
   "cell_type": "markdown",
   "metadata": {
    "colab_type": "text",
    "id": "vS8Ur6ddVp_u"
   },
   "source": [
    "# 19. Какой год стал самым успешным по суммарным кассовым сборам?"
   ]
  },
  {
   "cell_type": "code",
   "execution_count": 0,
   "metadata": {
    "colab": {},
    "colab_type": "code",
    "id": "Dnbt4GdIVp_v"
   },
   "outputs": [],
   "source": [
    "answers['19'] = '5. 2015' # +\n",
    "movie_year = movie.copy() # create a copy of dataset\n",
    "group = movie_year.groupby(['release_year'])['revenue'].sum().sort_values(ascending = False) # determine the most successful year for revenue\n",
    "display(group)"
   ]
  },
  {
   "cell_type": "markdown",
   "metadata": {
    "colab_type": "text",
    "id": "JAzJh4QAVp_z"
   },
   "source": [
    "# 20. Какой самый прибыльный год для студии Warner Bros?"
   ]
  },
  {
   "cell_type": "code",
   "execution_count": 0,
   "metadata": {
    "colab": {},
    "colab_type": "code",
    "id": "wgVu02DEVp_0"
   },
   "outputs": [],
   "source": [
    "answers['20'] = '1. 2014' # +\n",
    "movie_warner = movie.copy() # create a copy of dataset\n",
    "movie_warner.production_companies = movie_warner.production_companies.str.split('|') # split and explode column 'production_companies'\n",
    "movie_warner = movie_warner.explode('production_companies')\n",
    "movie_bros = movie_warner[movie_warner.production_companies.str.contains('Warner Bros')] # determine 'Warner Bros' companies\n",
    "group = movie_bros.groupby(['release_year'])['profit'].sum().sort_values(ascending = False) # determine the year with max summary profit\n",
    "display(group)"
   ]
  },
  {
   "cell_type": "markdown",
   "metadata": {
    "colab_type": "text",
    "id": "8Im1S2HRVp_4"
   },
   "source": [
    "# 21. В каком месяце за все годы суммарно вышло больше всего фильмов?"
   ]
  },
  {
   "cell_type": "code",
   "execution_count": 0,
   "metadata": {
    "colab": {},
    "colab_type": "code",
    "id": "lev6TH7gVp_4"
   },
   "outputs": [],
   "source": [
    "answers['21'] = '4. Сентябрь ' # +\n",
    "movie_month = movie.copy() # create a copy of dataset\n",
    "movie_month.release_date = pd.to_datetime(movie_month.release_date).dt.month # convert release date to the needed format\n",
    "group = movie_month.groupby(['release_date'])['original_title'].count().sort_values(ascending = False) # group by months\n",
    "display(group)"
   ]
  },
  {
   "cell_type": "markdown",
   "metadata": {
    "colab_type": "text",
    "id": "uAJsZ_NeVp_7"
   },
   "source": [
    "# 22. Сколько суммарно вышло фильмов летом? (за июнь, июль, август)"
   ]
  },
  {
   "cell_type": "code",
   "execution_count": 0,
   "metadata": {
    "colab": {},
    "colab_type": "code",
    "id": "Aa-hEREoVp_8"
   },
   "outputs": [],
   "source": [
    "answers['22'] = '2. 450' # +\n",
    "movie_month = movie.copy() # create a copy of dataset\n",
    "movie_month.release_date = pd.to_datetime(movie_month.release_date).dt.month # convert release date to the needed format\n",
    "group = movie_month.loc[movie_month.release_date == 6].count() + movie_month.loc[movie_month.release_date == 7].count() + movie_month.loc[movie_month.release_date == 8].count()\n",
    "display(group.original_title) # display summary count of summer films"
   ]
  },
  {
   "cell_type": "markdown",
   "metadata": {
    "colab_type": "text",
    "id": "G94ppOY1VqAA"
   },
   "source": [
    "# 23. Для какого режиссера зима – самое продуктивное время года? "
   ]
  },
  {
   "cell_type": "code",
   "execution_count": 0,
   "metadata": {
    "colab": {},
    "colab_type": "code",
    "id": "RhNTsamuVqAB"
   },
   "outputs": [],
   "source": [
    "answers['23'] = '5. Peter Jackson' # +\n",
    "movie_month = movie.copy() # create a copy of dataset\n",
    "movie_month.director = movie_month.director.str.split('|') # split and explode column 'director'\n",
    "movie_month = movie_month.explode('director')\n",
    "movie_month.release_date = pd.to_datetime(movie_month.release_date).dt.month # convert release date to the needed format\n",
    "group = movie_month.loc[(movie_month.release_date == 12) | (movie_month.release_date == 1) | (movie_month.release_date == 2)] # select winter months\n",
    "director = group.groupby(['director'])['release_date'].sum().sort_values(ascending = False) # determine the director with winter as the most productive time of the year\n",
    "display(director)"
   ]
  },
  {
   "cell_type": "markdown",
   "metadata": {
    "colab_type": "text",
    "id": "RBo0JVjVVqAF"
   },
   "source": [
    "# 24. Какая студия дает самые длинные названия своим фильмам по количеству символов?"
   ]
  },
  {
   "cell_type": "code",
   "execution_count": 0,
   "metadata": {
    "colab": {},
    "colab_type": "code",
    "id": "QRGS8L0iVqAG"
   },
   "outputs": [],
   "source": [
    "answers['24'] = '5. Four By Two Productions' # +\n",
    "movie_company = movie.copy() # create a copy of dataset\n",
    "movie_company['length_title'] = movie_company['original_title'].apply(lambda x: len(x)) # create columns with length of the title of each film\n",
    "movie_company.production_companies = movie_company.production_companies.str.split('|') # split and explode column 'production_companies'\n",
    "movie_company = movie_company.explode('production_companies')\n",
    "group = movie_company.groupby(['production_companies'])['length_title'].mean().sort_values(ascending = False) # determine the company with the max mean length of title\n",
    "display(group)"
   ]
  },
  {
   "cell_type": "markdown",
   "metadata": {
    "colab_type": "text",
    "id": "9G0hbvR7VqAK"
   },
   "source": [
    "# 25. Описание фильмов какой студии в среднем самые длинные по количеству слов?"
   ]
  },
  {
   "cell_type": "code",
   "execution_count": 0,
   "metadata": {
    "colab": {},
    "colab_type": "code",
    "id": "Ge2GsLNxVqAK"
   },
   "outputs": [],
   "source": [
    "answers['25'] = '3. Midnight Picture Show' # +\n",
    "movie_company = movie.copy() # create a copy of dataset\n",
    "movie_company['word_count'] = movie_company.overview.str.split().apply(len) # determine the length of films overview\n",
    "movie_company.production_companies = movie_company.production_companies.str.split('|') # split and explode column 'production_companies'\n",
    "movie_company = movie_company.explode('production_companies')\n",
    "group = movie_company.groupby(['production_companies'])['word_count'].max().sort_values(ascending = False) # determine the company with max overview length\n",
    "display(group)"
   ]
  },
  {
   "cell_type": "markdown",
   "metadata": {
    "colab_type": "text",
    "id": "FJ1AFt90VqAP"
   },
   "source": [
    "# 26. Какие фильмы входят в 1 процент лучших по рейтингу? \n",
    "по vote_average"
   ]
  },
  {
   "cell_type": "code",
   "execution_count": 0,
   "metadata": {
    "colab": {},
    "colab_type": "code",
    "id": "8qmJVq4CVqAQ"
   },
   "outputs": [],
   "source": [
    "answers['26'] = '1. Inside Out, The Dark Knight, 12 Years a Slave' # +\n",
    "movie_company = movie.copy() # create a copy of dataset\n",
    "group = movie_company.groupby(['original_title'])['vote_average'].max().sort_values(ascending = False) # determine films with max average vote\n",
    "with pd.option_context('display.max_rows', None, 'display.max_columns', None): # display all columns and rows\n",
    "    display(group)"
   ]
  },
  {
   "cell_type": "markdown",
   "metadata": {
    "colab_type": "text",
    "id": "MdXsUXbCVqAV"
   },
   "source": [
    "# 27. Какие актеры чаще всего снимаются в одном фильме вместе?\n"
   ]
  },
  {
   "cell_type": "code",
   "execution_count": null,
   "metadata": {
    "colab_type": "text",
    "id": "4ymnxEVoVqAW"
   },
   "outputs": [],
   "source": [
    "answers['27'] = '5. Daniel Radcliffe & Rupert Grint' # +\n",
    "movie_company = movie.copy() # create a copy of dataset\n",
    "movie_company.cast = movie_company.cast.str.split('|') # split column 'cast'\n",
    "actors_list = [] # create new list of actors\n",
    "for film in movie_company.original_title:\n",
    "    for actors in movie_company.cast:\n",
    "        actors_list.append(actors)\n",
    "pair  = Counter() # create pairs of actors and count them\n",
    "for actor in actors_list:\n",
    "    if len(actors_list) < 2:\n",
    "        continue\n",
    "    actor.sort()\n",
    "    for comb in combinations(actor,2):\n",
    "        pair[comb] += 1\n",
    "\n",
    "print(pair.most_common())"
   ]
  },
  {
   "cell_type": "markdown",
   "metadata": {
    "colab_type": "text",
    "id": "U0nONFnGVqAX"
   },
   "source": [
    "# Submission"
   ]
  },
  {
   "cell_type": "code",
   "execution_count": 1,
   "metadata": {
    "colab": {},
    "colab_type": "code",
    "id": "IfcaRO9-VqAX",
    "outputId": "0f132912-32bb-4196-c98c-abfbc4ad5a5f"
   },
   "outputs": [
    {
     "ename": "NameError",
     "evalue": "name 'answers' is not defined",
     "output_type": "error",
     "traceback": [
      "\u001b[1;31m---------------------------------------------------------------------------\u001b[0m",
      "\u001b[1;31mNameError\u001b[0m                                 Traceback (most recent call last)",
      "\u001b[1;32m<ipython-input-1-da9b661f2617>\u001b[0m in \u001b[0;36m<module>\u001b[1;34m\u001b[0m\n\u001b[0;32m      1\u001b[0m \u001b[1;31m# в конце можно посмотреть свои ответы к каждому вопросу\u001b[0m\u001b[1;33m\u001b[0m\u001b[1;33m\u001b[0m\u001b[1;33m\u001b[0m\u001b[0m\n\u001b[1;32m----> 2\u001b[1;33m \u001b[0manswers\u001b[0m\u001b[1;33m\u001b[0m\u001b[1;33m\u001b[0m\u001b[0m\n\u001b[0m",
      "\u001b[1;31mNameError\u001b[0m: name 'answers' is not defined"
     ]
    }
   ],
   "source": [
    "# в конце можно посмотреть свои ответы к каждому вопросу\n",
    "answers"
   ]
  },
  {
   "cell_type": "code",
   "execution_count": 0,
   "metadata": {
    "colab": {},
    "colab_type": "code",
    "id": "SiRmHPl8VqAd"
   },
   "outputs": [],
   "source": [
    "# и убедиться что ни чего не пропустил)\n",
    "len(answers)"
   ]
  },
  {
   "cell_type": "code",
   "execution_count": 0,
   "metadata": {
    "colab": {},
    "colab_type": "code",
    "id": "uCfuTkRbVqAg"
   },
   "outputs": [],
   "source": []
  },
  {
   "cell_type": "code",
   "execution_count": 0,
   "metadata": {
    "colab": {},
    "colab_type": "code",
    "id": "Vwx3NrkSVqAl"
   },
   "outputs": [],
   "source": []
  }
 ],
 "metadata": {
  "colab": {
   "name": "Copy of [SF-DST] Movies IMBD v4.1 TEMPLATE.ipynb",
   "provenance": []
  },
  "kernelspec": {
   "display_name": "Python 3",
   "language": "python",
   "name": "python3"
  },
  "language_info": {
   "codemirror_mode": {
    "name": "ipython",
    "version": 3
   },
   "file_extension": ".py",
   "mimetype": "text/x-python",
   "name": "python",
   "nbconvert_exporter": "python",
   "pygments_lexer": "ipython3",
   "version": "3.8.3"
  }
 },
 "nbformat": 4,
 "nbformat_minor": 1
}
